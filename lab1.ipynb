{
 "cells": [
  {
   "cell_type": "raw",
   "id": "ae1b50fc-d8c1-40df-b877-d341fe193ee6",
   "metadata": {},
   "source": [
    "[[source]]\n",
    "url = \"https://pypi.org/simple\"\n",
    "verify_ssl = true\n",
    "name = \"pypi\"\n",
    "\n",
    "[packages]\n",
    "numpy = \"==1.25.2\"\n",
    "pandas = \"==2.0.3\"\n",
    "matplotlib = \"==3.7.2\"\n",
    "requests = \"==2.31.0\"\n",
    "jupyterlab = \"==4.0.5\"\n",
    "ipykernel = \"==6.25.1\"\n",
    "\n",
    "[dev-packages]\n",
    "\n",
    "[requires]\n",
    "python_version = \"3.11\"\n",
    "python_full_version = \"3.11.4\"\n"
   ]
  },
  {
   "cell_type": "code",
   "execution_count": 1,
   "id": "e962636a-c1e7-42fc-8703-7c389e1deec0",
   "metadata": {},
   "outputs": [
    {
     "name": "stdout",
     "output_type": "stream",
     "text": [
      "Python 3.11.4\n"
     ]
    }
   ],
   "source": [
    "!python --version"
   ]
  },
  {
   "cell_type": "code",
   "execution_count": 2,
   "id": "522d7cb1-9cf9-4d7a-8869-be14fa0a067b",
   "metadata": {},
   "outputs": [],
   "source": [
    "import numpy\n",
    "import pandas\n",
    "import matplotlib\n",
    "import requests"
   ]
  },
  {
   "cell_type": "code",
   "execution_count": 3,
   "id": "5c8d73db-bc1d-46e1-9027-23ae06d66a0e",
   "metadata": {},
   "outputs": [
    {
     "ename": "ModuleNotFoundError",
     "evalue": "No module named 'sklearn'",
     "output_type": "error",
     "traceback": [
      "\u001b[0;31m---------------------------------------------------------------------------\u001b[0m",
      "\u001b[0;31mModuleNotFoundError\u001b[0m                       Traceback (most recent call last)",
      "Cell \u001b[0;32mIn[3], line 1\u001b[0m\n\u001b[0;32m----> 1\u001b[0m \u001b[38;5;28;01mimport\u001b[39;00m \u001b[38;5;21;01msklearn\u001b[39;00m\n",
      "\u001b[0;31mModuleNotFoundError\u001b[0m: No module named 'sklearn'"
     ]
    }
   ],
   "source": [
    "import sklearn"
   ]
  },
  {
   "cell_type": "markdown",
   "id": "8facb304-750d-4b3d-94bc-d0d2f9995504",
   "metadata": {},
   "source": [
    "3a. Since there are multiple chapters and each chapter has its own database, a container would be the best for this use case.  Easy to install db"
   ]
  },
  {
   "cell_type": "markdown",
   "id": "7a488e27-8914-4065-a378-afffb44ee1a8",
   "metadata": {},
   "source": [
    "3b. Local env. Global could work"
   ]
  },
  {
   "cell_type": "markdown",
   "id": "5350df48-e9d3-4c3b-8390-06584df74db5",
   "metadata": {},
   "source": [
    "3c. Container. Vm is overkill"
   ]
  },
  {
   "cell_type": "markdown",
   "id": "d59cfb11-9ca5-475b-9317-ac967440e326",
   "metadata": {},
   "source": [
    "3d. Virtual env need to keep python 3 work isolated"
   ]
  },
  {
   "cell_type": "raw",
   "id": "b71ba5f6-41d8-4afc-9719-280c78301014",
   "metadata": {},
   "source": [
    "4b\n",
    "\n",
    "clarencewilliams@Clarences-MacBook-Pro DS6600_lab1 % docker build . -t lab1\n",
    "[+] Building 14.0s (10/10) FINISHED                                                                                                      docker:desktop-linux\n",
    " => [internal] load build definition from Dockerfile                                                                                                     0.0s\n",
    " => => transferring dockerfile: 172B                                                                                                                     0.0s\n",
    " => resolve image config for docker-image://docker.io/docker/dockerfile:1                                                                                0.2s\n",
    " => CACHED docker-image://docker.io/docker/dockerfile:1@sha256:865e5dd094beca432e8c0a1d5e1c465db5f998dca4e439981029b3b81fb39ed5                          0.0s\n",
    " => [internal] load metadata for docker.io/library/ubuntu:latest                                                                                         0.6s\n",
    " => [auth] library/ubuntu:pull token for registry-1.docker.io                                                                                            0.0s\n",
    " => [internal] load .dockerignore                                                                                                                        0.0s\n",
    " => => transferring context: 2B                                                                                                                          0.0s\n",
    " => [1/3] FROM docker.io/library/ubuntu:latest@sha256:dfc10878be8d8fc9c61cbff33166cb1d1fe44391539243703c72766894fa834a                                   1.3s\n",
    " => => resolve docker.io/library/ubuntu:latest@sha256:dfc10878be8d8fc9c61cbff33166cb1d1fe44391539243703c72766894fa834a                                   0.0s\n",
    " => => sha256:dfc10878be8d8fc9c61cbff33166cb1d1fe44391539243703c72766894fa834a 1.34kB / 1.34kB                                                           0.0s\n",
    " => => sha256:d3a9954d48359352af02b5824c4b3c883b4361d355022bec7239c2ef8a3e7d04 424B / 424B                                                               0.0s\n",
    " => => sha256:2b1b17d5e5a2e35c8ff079eb8d54edb89a20ae1794e4c1f359f756d6b422d2c7 2.31kB / 2.31kB                                                           0.0s\n",
    " => => sha256:6e59cb05818e49ea83cbe79bd46eb80418dfe3cb3735b45570f93a23579e2cec 28.89MB / 28.89MB                                                         0.4s\n",
    " => => extracting sha256:6e59cb05818e49ea83cbe79bd46eb80418dfe3cb3735b45570f93a23579e2cec                                                                0.8s\n",
    " => [2/3] RUN apt-get update                                                                                                                             5.9s\n",
    " => [3/3] RUN apt-get install -y python3                                                                                                                 5.6s\n",
    " => exporting to image                                                                                                                                   0.2s\n",
    " => => exporting layers                                                                                                                                  0.1s \n",
    " => => writing image sha256:54af06f85b7925397ec646432dda5c7834deaee9f968b1c5a791fba62529f638                                                             0.0s \n",
    " => => naming to docker.io/library/lab1                                                                                                                  0.0s \n",
    "                                                                                                                                                              \n",
    "View build details: docker-desktop://dashboard/build/desktop-linux/desktop-linux/1knowxmniub8xcihny7wnu66z                                                    \n",
    "\n",
    "What's next:\n",
    "    View a summary of image vulnerabilities and recommendations → docker scout quickview "
   ]
  },
  {
   "cell_type": "raw",
   "id": "a1e5133b-38ad-4592-a29e-984c255397b1",
   "metadata": {},
   "source": [
    "4c\n",
    "clarencewilliams@Clarences-MacBook-Pro DS6600_lab1 % docker run -it lab1 python3\n",
    "Python 3.12.3 (main, Sep 11 2024, 14:17:37) [GCC 13.2.0] on linux\n",
    "Type \"help\", \"copyright\", \"credits\" or \"license\" for more information.\n",
    ">>> \n",
    " "
   ]
  },
  {
   "cell_type": "code",
   "execution_count": null,
   "id": "944161df-ddf5-4fe3-912c-51448406da39",
   "metadata": {},
   "outputs": [],
   "source": []
  }
 ],
 "metadata": {
  "kernelspec": {
   "display_name": "Python 3 (ipykernel)",
   "language": "python",
   "name": "python3"
  },
  "language_info": {
   "codemirror_mode": {
    "name": "ipython",
    "version": 3
   },
   "file_extension": ".py",
   "mimetype": "text/x-python",
   "name": "python",
   "nbconvert_exporter": "python",
   "pygments_lexer": "ipython3",
   "version": "3.11.4"
  }
 },
 "nbformat": 4,
 "nbformat_minor": 5
}
