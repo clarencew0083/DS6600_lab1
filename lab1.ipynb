{
 "cells": [
  {
   "cell_type": "markdown",
   "id": "121c3d7b-90d6-4751-889e-3733c21cad29",
   "metadata": {},
   "source": [
    "### 1\n",
    "https://github.com/clarencew0083/DS6600_lab1"
   ]
  },
  {
   "cell_type": "markdown",
   "id": "a27b3d3e-fbf2-47eb-83b3-9b0ff81b0ab4",
   "metadata": {},
   "source": [
    "### 2a"
   ]
  },
  {
   "cell_type": "code",
   "execution_count": null,
   "id": "65978fe8-abe0-4ab9-8b41-e0cf634692d8",
   "metadata": {},
   "outputs": [],
   "source": [
    "[[source]]\n",
    "url = \"https://pypi.org/simple\"\n",
    "verify_ssl = true\n",
    "name = \"pypi\"\n",
    "\n",
    "[packages]\n",
    "numpy = \"==1.25.2\"\n",
    "pandas = \"==2.0.3\"\n",
    "matplotlib = \"==3.7.2\"\n",
    "requests = \"==2.31.0\"\n",
    "jupyterlab = \"==4.0.5\"\n",
    "ipykernel = \"==6.25.1\"\n",
    "\n",
    "[dev-packages]\n",
    "\n",
    "[requires]\n",
    "python_version = \"3.11\"\n",
    "python_full_version = \"3.11.4\""
   ]
  },
  {
   "cell_type": "markdown",
   "id": "bc8bb9c3-378f-4181-9c5d-30896cb522f1",
   "metadata": {},
   "source": [
    "### 2b"
   ]
  },
  {
   "cell_type": "code",
   "execution_count": 1,
   "id": "e962636a-c1e7-42fc-8703-7c389e1deec0",
   "metadata": {},
   "outputs": [
    {
     "name": "stdout",
     "output_type": "stream",
     "text": [
      "Python 3.11.4\n"
     ]
    }
   ],
   "source": [
    "!python --version"
   ]
  },
  {
   "cell_type": "markdown",
   "id": "fa6d598a-5580-4af6-836e-d5d2d8b961a8",
   "metadata": {},
   "source": [
    "### 2c"
   ]
  },
  {
   "cell_type": "code",
   "execution_count": 2,
   "id": "522d7cb1-9cf9-4d7a-8869-be14fa0a067b",
   "metadata": {},
   "outputs": [],
   "source": [
    "import numpy\n",
    "import pandas\n",
    "import matplotlib\n",
    "import requests"
   ]
  },
  {
   "cell_type": "markdown",
   "id": "753ccd54-02fc-4dfe-ad76-653ffdcd0a1a",
   "metadata": {},
   "source": [
    "### 2d"
   ]
  },
  {
   "cell_type": "code",
   "execution_count": 3,
   "id": "5c8d73db-bc1d-46e1-9027-23ae06d66a0e",
   "metadata": {},
   "outputs": [
    {
     "ename": "ModuleNotFoundError",
     "evalue": "No module named 'sklearn'",
     "output_type": "error",
     "traceback": [
      "\u001b[0;31m---------------------------------------------------------------------------\u001b[0m",
      "\u001b[0;31mModuleNotFoundError\u001b[0m                       Traceback (most recent call last)",
      "Cell \u001b[0;32mIn[3], line 1\u001b[0m\n\u001b[0;32m----> 1\u001b[0m \u001b[38;5;28;01mimport\u001b[39;00m \u001b[38;5;21;01msklearn\u001b[39;00m\n",
      "\u001b[0;31mModuleNotFoundError\u001b[0m: No module named 'sklearn'"
     ]
    }
   ],
   "source": [
    "import sklearn"
   ]
  },
  {
   "cell_type": "markdown",
   "id": "8facb304-750d-4b3d-94bc-d0d2f9995504",
   "metadata": {},
   "source": [
    "### 3a \n",
    "Since there are multiple chapters and each chapter has its own database, a virtual machine hosting would be the best for this use case. This would allow clients’ information to be housed separately with the necessary backups for a production level application. A container could work as well for clients because the database would be easy to install and make the connection using a containerized environment. However, in this case, a developer would have to provide his/her own server for the database or store it locally."
   ]
  },
  {
   "cell_type": "markdown",
   "id": "7a488e27-8914-4065-a378-afffb44ee1a8",
   "metadata": {},
   "source": [
    "### 3b\n",
    "A virtual environment is ideal for this task to keep the data processing packages isolated from other programs on one’s machine. A global environment could work as well, if the developer is not concerned with isolating environments for this short task. A container and virtual machine would be a waste of memory and funds respectively, since the task could be accomplished quickly developing the necessary code locally."
   ]
  },
  {
   "cell_type": "markdown",
   "id": "5350df48-e9d3-4c3b-8390-06584df74db5",
   "metadata": {},
   "source": [
    "### 3c\n",
    "A container is ideal since it allows one to run Linux on any system. A virtual machine would not be cost effective since a container provides a free solution. A global or virtual environment would only work if my development machine had Ubuntu Linux natively installed."
   ]
  },
  {
   "cell_type": "markdown",
   "id": "d59cfb11-9ca5-475b-9317-ac967440e326",
   "metadata": {},
   "source": [
    "### 3d\n",
    "A virtual environment is best for this use case since it allows projects to work with different versions of python. A container could work as well at the cost of consuming additional memory on my development machine. A global environment would be only for one version of python. Therefore, it will not meet the needs for this problem. A virtual machine would be cost prohibitive since it would require a vm using Python3 and another using Python4."
   ]
  },
  {
   "cell_type": "markdown",
   "id": "1bdfd2bc-1db3-4abe-91c8-1da59a207a66",
   "metadata": {},
   "source": [
    "### 4b"
   ]
  },
  {
   "cell_type": "raw",
   "id": "b71ba5f6-41d8-4afc-9719-280c78301014",
   "metadata": {},
   "source": [
    "\n",
    "clarencewilliams@Clarences-MacBook-Pro DS6600_lab1 % docker build . -t lab1\n",
    "[+] Building 14.0s (10/10) FINISHED                                                                                                      docker:desktop-linux\n",
    " => [internal] load build definition from Dockerfile                                                                                                     0.0s\n",
    " => => transferring dockerfile: 172B                                                                                                                     0.0s\n",
    " => resolve image config for docker-image://docker.io/docker/dockerfile:1                                                                                0.2s\n",
    " => CACHED docker-image://docker.io/docker/dockerfile:1@sha256:865e5dd094beca432e8c0a1d5e1c465db5f998dca4e439981029b3b81fb39ed5                          0.0s\n",
    " => [internal] load metadata for docker.io/library/ubuntu:latest                                                                                         0.6s\n",
    " => [auth] library/ubuntu:pull token for registry-1.docker.io                                                                                            0.0s\n",
    " => [internal] load .dockerignore                                                                                                                        0.0s\n",
    " => => transferring context: 2B                                                                                                                          0.0s\n",
    " => [1/3] FROM docker.io/library/ubuntu:latest@sha256:dfc10878be8d8fc9c61cbff33166cb1d1fe44391539243703c72766894fa834a                                   1.3s\n",
    " => => resolve docker.io/library/ubuntu:latest@sha256:dfc10878be8d8fc9c61cbff33166cb1d1fe44391539243703c72766894fa834a                                   0.0s\n",
    " => => sha256:dfc10878be8d8fc9c61cbff33166cb1d1fe44391539243703c72766894fa834a 1.34kB / 1.34kB                                                           0.0s\n",
    " => => sha256:d3a9954d48359352af02b5824c4b3c883b4361d355022bec7239c2ef8a3e7d04 424B / 424B                                                               0.0s\n",
    " => => sha256:2b1b17d5e5a2e35c8ff079eb8d54edb89a20ae1794e4c1f359f756d6b422d2c7 2.31kB / 2.31kB                                                           0.0s\n",
    " => => sha256:6e59cb05818e49ea83cbe79bd46eb80418dfe3cb3735b45570f93a23579e2cec 28.89MB / 28.89MB                                                         0.4s\n",
    " => => extracting sha256:6e59cb05818e49ea83cbe79bd46eb80418dfe3cb3735b45570f93a23579e2cec                                                                0.8s\n",
    " => [2/3] RUN apt-get update                                                                                                                             5.9s\n",
    " => [3/3] RUN apt-get install -y python3                                                                                                                 5.6s\n",
    " => exporting to image                                                                                                                                   0.2s\n",
    " => => exporting layers                                                                                                                                  0.1s \n",
    " => => writing image sha256:54af06f85b7925397ec646432dda5c7834deaee9f968b1c5a791fba62529f638                                                             0.0s \n",
    " => => naming to docker.io/library/lab1                                                                                                                  0.0s \n",
    "                                                                                                                                                              \n",
    "View build details: docker-desktop://dashboard/build/desktop-linux/desktop-linux/1knowxmniub8xcihny7wnu66z                                                    \n",
    "\n",
    "What's next:\n",
    "    View a summary of image vulnerabilities and recommendations → docker scout quickview "
   ]
  },
  {
   "cell_type": "markdown",
   "id": "85a58623-4ea5-44a4-8abb-15710c0a1e0c",
   "metadata": {},
   "source": [
    "### 4c"
   ]
  },
  {
   "cell_type": "raw",
   "id": "a1e5133b-38ad-4592-a29e-984c255397b1",
   "metadata": {},
   "source": [
    "clarencewilliams@Clarences-MacBook-Pro DS6600_lab1 % docker run -it lab1 python3\n",
    "Python 3.12.3 (main, Sep 11 2024, 14:17:37) [GCC 13.2.0] on linux\n",
    "Type \"help\", \"copyright\", \"credits\" or \"license\" for more information.\n",
    ">>> \n",
    " "
   ]
  },
  {
   "cell_type": "markdown",
   "id": "ace0f25d-ae92-4b02-a1d7-74fbc2907ba8",
   "metadata": {},
   "source": [
    "## 6"
   ]
  },
  {
   "cell_type": "raw",
   "id": "3e74e8fb-00da-4ed6-890e-486e63f1c314",
   "metadata": {},
   "source": [
    "It is written in the Book of Hermes:\n",
    "                                                                                   \n",
    "                                                                                       After the Creation, the cruel god Moloch rebelled\n",
    "                                                                                       against the authority of Marduk the Creator.\n",
    "                                                                                       Moloch stole from Marduk the most powerful of all\n",
    "                                                                                       the artifacts of the gods, the Amulet of Yendor,\n",
    "                                                                                       and he hid it in the dark cavities of Gehennom, the\n",
    "                                                                                       Under World, where he now lurks, and bides his time.\n",
    "                                                                                   \n",
    "                                                                                   Your god Hermes seeks to possess the Amulet, and with it\n",
    "                                                                                   to gain deserved ascendance over the other gods.\n",
    "                                                                                   \n",
    "                                                                                   You, a newly trained Rhizotomist, have been heralded\n",
    "                                                                                   from birth as the instrument of Hermes.  You are destined\n",
    "                                                                                   to recover the Amulet for your deity, or die in the\n",
    "                                              ---------------                      attempt.  Your hour of destiny has come.  For the sake\n",
    "                                              |.............|                      of us all:  Go bravely with Hermes!\n",
    "                                              |........f....|                      --More--\n",
    "                                              |........@....+\n",
    "                                              ---------------\n",
    "\n",
    "\n",
    "Clarence the Rhizotomist       St:7 Dx:8 Co:15 In:13 Wi:15 Ch:17 Neutral\n",
    "Dlvl:1 $:1627 HP:13(13) Pw:6(6) AC:8 Xp:1"
   ]
  }
 ],
 "metadata": {
  "kernelspec": {
   "display_name": "Python 3 (ipykernel)",
   "language": "python",
   "name": "python3"
  },
  "language_info": {
   "codemirror_mode": {
    "name": "ipython",
    "version": 3
   },
   "file_extension": ".py",
   "mimetype": "text/x-python",
   "name": "python",
   "nbconvert_exporter": "python",
   "pygments_lexer": "ipython3",
   "version": "3.11.4"
  }
 },
 "nbformat": 4,
 "nbformat_minor": 5
}
